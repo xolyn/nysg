{
 "cells": [
  {
   "cell_type": "code",
   "execution_count": 1,
   "metadata": {},
   "outputs": [],
   "source": [
    "import pandas as pd\n",
    "import requests \n",
    "import bs4 as bs\n",
    "import json\n",
    "from tqdm import tqdm "
   ]
  },
  {
   "cell_type": "markdown",
   "metadata": {},
   "source": [
    "```\n",
    "https://services1.arcgis.com/0Lw2m57KEotYYFaA/arcgis/rest/services/Community_Flood_Watch_Project_Survey_3_view/\n",
    "FeatureServer/0/779/attachments/1108\n",
    "```"
   ]
  },
  {
   "cell_type": "code",
   "execution_count": 2,
   "metadata": {},
   "outputs": [],
   "source": [
    "def getimgjson(url):\n",
    "    response = requests.get(url)\n",
    "    if response.status_code == 200:\n",
    "        json_data = json.loads(response.text)\n",
    "        return dict(json_data)\n",
    "    else:\n",
    "        print(f\"Failed to fetch JSON from URL: {url}\")\n",
    "        return None\n",
    "    \n",
    "def downloadimg(url, dir):\n",
    "    response = requests.get(url)\n",
    "    if response.status_code == 200:\n",
    "        with open(dir, 'wb') as f:\n",
    "            f.write(response.content)\n",
    "    else:\n",
    "        print(f\"Failed to download photo from URL: {url}\")"
   ]
  },
  {
   "cell_type": "code",
   "execution_count": 4,
   "metadata": {},
   "outputs": [
    {
     "data": {
      "text/plain": [
       "{'attachmentInfos': [{'id': 1107,\n",
       "   'globalId': '1849e913-049b-40c6-88b3-a7c80205e3fc',\n",
       "   'parentGlobalId': 'adea909c-2d99-47e8-8e76-66dc7fff4d78',\n",
       "   'name': '20230616_144641.jpg',\n",
       "   'contentType': 'image/jpeg',\n",
       "   'size': 3397735,\n",
       "   'keywords': 'please_submit_your_flooding_pho',\n",
       "   'exifInfo': None},\n",
       "  {'id': 1108,\n",
       "   'globalId': 'c4b1e47c-786d-457d-8736-2d375f6b9a00',\n",
       "   'parentGlobalId': 'adea909c-2d99-47e8-8e76-66dc7fff4d78',\n",
       "   'name': '20230616_144635.jpg',\n",
       "   'contentType': 'image/jpeg',\n",
       "   'size': 4414563,\n",
       "   'keywords': 'please_submit_your_flooding_pho',\n",
       "   'exifInfo': None}]}"
      ]
     },
     "execution_count": 4,
     "metadata": {},
     "output_type": "execute_result"
    }
   ],
   "source": [
    "test=getimgjson(\"https://services1.arcgis.com/0Lw2m57KEotYYFaA/arcgis/rest/services/Community_Flood_Watch_Project_Survey_3_view/FeatureServer/0/779/attachments?f=pjson\")\n",
    "test"
   ]
  },
  {
   "cell_type": "code",
   "execution_count": 6,
   "metadata": {},
   "outputs": [
    {
     "data": {
      "text/plain": [
       "[1107, 1108]"
      ]
     },
     "execution_count": 6,
     "metadata": {},
     "output_type": "execute_result"
    }
   ],
   "source": [
    "[x[\"id\"] for x in test['attachmentInfos']]"
   ]
  },
  {
   "cell_type": "markdown",
   "metadata": {},
   "source": [
    "----\n",
    "### image naming convention:\n",
    "`objectID`+`ImgID`\n",
    "\n",
    "The following cell should take ~10 min to run and hopefully no HTTP429 will appear."
   ]
  },
  {
   "cell_type": "code",
   "execution_count": 12,
   "metadata": {},
   "outputs": [
    {
     "name": "stderr",
     "output_type": "stream",
     "text": [
      "100%|██████████| 724/724 [09:26<00:00,  1.28it/s]\n"
     ]
    }
   ],
   "source": [
    "for idx in tqdm(range(len(arcgis))):\n",
    "    i=arcgis.loc[idx,\"objectid\"]\n",
    "    res=\"https://services1.arcgis.com/0Lw2m57KEotYYFaA/arcgis/rest/services/Community_Flood_Watch_Project_Survey_3_view/FeatureServer/0/\"\\\n",
    "        +str(i)+\"/attachments?f=pjson\"\n",
    "    imgjson=getimgjson(res)\n",
    "    imgid=[x[\"id\"] for x in imgjson['attachmentInfos']]\n",
    "    for id in imgid:\n",
    "        imgurl=\"https://services1.arcgis.com/0Lw2m57KEotYYFaA/arcgis/rest/services/Community_Flood_Watch_Project_Survey_3_view/FeatureServer/0/\"\\\n",
    "        +str(i)+\"/attachments/\"+str(id)\n",
    "        loc=\"img/\"+str(i)+\"-\"+str(id)+\".jpg\"\n",
    "        downloadimg(imgurl,loc)"
   ]
  },
  {
   "cell_type": "markdown",
   "metadata": {},
   "source": [
    "Outputs are stored [here(GDrive)](https://drive.google.com/drive/folders/15413UnRxppB0gas0pJ9VQGSxnj8uQqV7?usp=sharing) / [Local](img)\n",
    "\n",
    "- ~Google Drive API/Cloudflare R2 for uploading convenience. "
   ]
  },
  {
   "cell_type": "markdown",
   "metadata": {},
   "source": [
    "----\n"
   ]
  }
 ],
 "metadata": {
  "kernelspec": {
   "display_name": "base",
   "language": "python",
   "name": "python3"
  },
  "language_info": {
   "codemirror_mode": {
    "name": "ipython",
    "version": 3
   },
   "file_extension": ".py",
   "mimetype": "text/x-python",
   "name": "python",
   "nbconvert_exporter": "python",
   "pygments_lexer": "ipython3",
   "version": "3.9.13"
  }
 },
 "nbformat": 4,
 "nbformat_minor": 2
}
