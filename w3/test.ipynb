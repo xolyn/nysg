{
 "cells": [
  {
   "cell_type": "code",
   "execution_count": 1,
   "metadata": {},
   "outputs": [],
   "source": [
    "import pandas as pd\n",
    "import dateparser\n",
    "import requests\n",
    "tab1=pd.read_csv(\"tab1.csv\")\n",
    "tab2=pd.read_csv(\"tab2.csv\")\n",
    "comm_cols=list(set(tab1.columns).intersection(set(tab2.columns))) # get common fields\n",
    "tab1=tab1[comm_cols] # select common fields\n",
    "tab2=tab2[comm_cols] # select common fields\n",
    "df=pd.concat([tab1,tab2]).reset_index() # concat (vertically), reset index to be count"
   ]
  },
  {
   "cell_type": "code",
   "execution_count": 10,
   "metadata": {},
   "outputs": [
    {
     "data": {
      "text/plain": [
       "1022    12:59 am\n",
       "Name: photo_time, dtype: object"
      ]
     },
     "execution_count": 10,
     "metadata": {},
     "output_type": "execute_result"
    }
   ],
   "source": [
    "df[df.index==1022][\"photo_time\"]"
   ]
  },
  {
   "cell_type": "code",
   "execution_count": 11,
   "metadata": {},
   "outputs": [],
   "source": [
    "df['photo_time'] = pd.to_datetime(df['photo_time']).dt.strftime(\"%H:%M\")"
   ]
  },
  {
   "cell_type": "code",
   "execution_count": 12,
   "metadata": {},
   "outputs": [
    {
     "data": {
      "text/plain": [
       "1022    00:59\n",
       "Name: photo_time, dtype: object"
      ]
     },
     "execution_count": 12,
     "metadata": {},
     "output_type": "execute_result"
    }
   ],
   "source": [
    "df[df.index==1022][\"photo_time\"]"
   ]
  },
  {
   "cell_type": "code",
   "execution_count": null,
   "metadata": {},
   "outputs": [],
   "source": []
  },
  {
   "cell_type": "code",
   "execution_count": 2,
   "metadata": {},
   "outputs": [
    {
     "name": "stdout",
     "output_type": "stream",
     "text": [
      "Image downloaded successfully as image.jpg\n"
     ]
    }
   ],
   "source": [
    "def download_image(url, filename):\n",
    "    response = requests.get(url)\n",
    "    if response.status_code == 200:\n",
    "        with open(filename, 'wb') as file:\n",
    "            file.write(response.content)\n",
    "        print(f\"Image downloaded successfully as {filename}\")\n",
    "    else:\n",
    "        print(\"Failed to download image\")\n",
    "\n",
    "url = \"https://services1.arcgis.com/0Lw2m57KEotYYFaA/arcgis/rest/services/Community_Flood_Watch_Project_Survey_3_view/FeatureServer/0/777/attachments/1105\" \n",
    "filename = \"image.jpg\"  \n",
    "download_image(url, filename)"
   ]
  },
  {
   "cell_type": "code",
   "execution_count": 3,
   "metadata": {},
   "outputs": [
    {
     "data": {
      "text/plain": [
       "2"
      ]
     },
     "execution_count": 3,
     "metadata": {},
     "output_type": "execute_result"
    }
   ],
   "source": [
    "i=1\n",
    "i-=-1\n",
    "i"
   ]
  }
 ],
 "metadata": {
  "kernelspec": {
   "display_name": "base",
   "language": "python",
   "name": "python3"
  },
  "language_info": {
   "codemirror_mode": {
    "name": "ipython",
    "version": 3
   },
   "file_extension": ".py",
   "mimetype": "text/x-python",
   "name": "python",
   "nbconvert_exporter": "python",
   "pygments_lexer": "ipython3",
   "version": "3.9.13"
  }
 },
 "nbformat": 4,
 "nbformat_minor": 2
}
